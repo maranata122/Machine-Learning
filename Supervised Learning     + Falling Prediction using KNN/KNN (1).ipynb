{
  "nbformat": 4,
  "nbformat_minor": 0,
  "metadata": {
    "colab": {
      "provenance": []
    },
    "kernelspec": {
      "name": "python3",
      "display_name": "Python 3"
    },
    "language_info": {
      "name": "python"
    }
  },
  "cells": [
    {
      "cell_type": "code",
      "execution_count": null,
      "metadata": {
        "id": "vQ4SBtafDfDD",
        "colab": {
          "base_uri": "https://localhost:8080/"
        },
        "outputId": "884cf0e5-dc13-4725-a516-8717af0be14a"
      },
      "outputs": [
        {
          "output_type": "stream",
          "name": "stdout",
          "text": [
            "Euclidean distance between two vectors\n",
            "2.0\n",
            "2.23606797749979\n",
            "2.6457513110645907\n",
            "10.0\n",
            "9.433981132056603\n",
            "10.099504938362077\n",
            "10.44030650891055\n",
            "10.295630140987\n",
            "Expected 0, Got 0.\n"
          ]
        }
      ],
      "source": [
        "from math import sqrt\n",
        "# calculate the Euclidean distance between two vectors\n",
        "#     Euclidean Distance = sqrt(sum i to N (x1_i – x2_i)^2)\n",
        "# Result:\n",
        "#    10.295630140987\n",
        "#    10.392304845413264\n",
        "#\t   10.723805294763608\n",
        "#\t   10.04987562112089\n",
        "# \t 2.449489742783178\n",
        "# \t 2.6457513110645907\n",
        "#\t   3.1622776601683795\n",
        "#\t   2.6457513110645907\n",
        "def euclidean_distance(row1, row2):\n",
        "\tdistance = 0.0\n",
        "\tfor i in range(len(row1)-1):\n",
        "\t\tdistance += (row1[i] - row2[i])**2\n",
        "\treturn sqrt(distance)\n",
        "\n",
        "# Locate the most similar neighbors\n",
        "# Result\n",
        "#   [6,5,7,5,6,7,1],\n",
        "#   [5,6,6,6,5,7,1],\n",
        "#\t[7,6,7,6,5,6,1]]\n",
        "def get_neighbors(train, test_row, num_neighbors):\n",
        "\tdistances = list()\n",
        "\tfor train_row in train:\n",
        "\t\tdist = euclidean_distance(test_row, train_row)\n",
        "\t\tdistances.append((train_row, dist))\n",
        "\tdistances.sort(key=lambda tup: tup[1])\n",
        "\tneighbors = list()\n",
        "\tfor i in range(num_neighbors):\n",
        "\t\tneighbors.append(distances[i][0])\n",
        "\treturn neighbors\n",
        "\n",
        "# Make a classification prediction with neighbors\n",
        "# - test_row is row 0\n",
        "# - num_neighbors is 3\n",
        "def predict_classification(train, test_row, num_neighbors):\n",
        "\tneighbors = get_neighbors(train, test_row, num_neighbors)\n",
        "\toutput_values = [row[-1] for row in neighbors]\n",
        "\tprediction = max(set(output_values), key=output_values.count)\n",
        "\treturn prediction\n",
        " \n",
        "# Test distance function\n",
        "dataset =  [[1,2,3,2,1,3,0],\n",
        "\t          [2,1,3,3,1,2,0],\n",
        "            [1,1,2,3,2,2,0],\n",
        "        \t  [2,2,3,3,2,1,0],\n",
        "        \t  [6,5,7,5,6,7,1],\n",
        "        \t  [5,6,6,6,5,7,1],\n",
        "        \t  [5,6,7,5,7,6,1],\n",
        "        \t  [7,6,7,6,5,6,1],\n",
        "            [7,6,5,5,6,7,1]]\n",
        "\n",
        "# Caluclate euclidean_distance\n",
        "print(\"Euclidean distance between two vectors\")\n",
        "for i in range(1,9):\n",
        "\tprint(euclidean_distance(dataset[0],dataset[i]))\n",
        "\t\n",
        "\n",
        "# row 0 (i.e., dataset[0]) is the one to be predicted\n",
        "prediction = predict_classification(dataset, dataset[0], 3)\n",
        "\n",
        "# - dataset[0][-1] is the last element of row 0 of dataset\n",
        "# - Display\n",
        "#    Expected 1, Got 1.\n",
        "print('Expected %d, Got %d.' % (dataset[0][-1], prediction))\n",
        "\n"
      ]
    },
    {
      "cell_type": "code",
      "source": [],
      "metadata": {
        "id": "-9cn0ATGD8jl"
      },
      "execution_count": null,
      "outputs": []
    }
  ]
}